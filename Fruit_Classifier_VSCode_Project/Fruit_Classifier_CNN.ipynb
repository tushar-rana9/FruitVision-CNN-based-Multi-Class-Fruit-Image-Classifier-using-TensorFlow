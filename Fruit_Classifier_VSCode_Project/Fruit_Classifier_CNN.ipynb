
{
 "cells": [
  {
   "cell_type": "markdown",
   "metadata": {},
   "source": [
    "# 🍎 Fruit Classifier using CNN in TensorFlow"
   ]
  },
  {
   "cell_type": "code",
   "execution_count": null,
   "metadata": {},
   "outputs": [],
   "source": [
    "# STEP 1: Install & Setup Kaggle
",
    "!pip install kaggle
",
    "from google.colab import files
",
    "files.upload()  # Upload kaggle.json
",
    "!mkdir -p ~/.kaggle
",
    "!cp kaggle.json ~/.kaggle/
",
    "!chmod 600 ~/.kaggle/kaggle.json"
   ]
  },
  {
   "cell_type": "code",
   "execution_count": null,
   "metadata": {},
   "outputs": [],
   "source": [
    "# STEP 2: Download Fruits-360 Dataset
",
    "!kaggle datasets download -d moltean/fruits
",
    "!unzip fruits.zip -d fruits-360"
   ]
  },
  {
   "cell_type": "code",
   "execution_count": null,
   "metadata": {},
   "outputs": [],
   "source": [
    "# STEP 3: Build & Train CNN
",
    "import tensorflow as tf
",
    "from tensorflow.keras.models import Sequential
",
    "from tensorflow.keras.layers import Conv2D, MaxPooling2D, Flatten, Dense
",
    "from tensorflow.keras.preprocessing.image import ImageDataGenerator
",
    "
",
    "train_path = '/content/fruits-360/fruits-360/Training'
",
    "test_path = '/content/fruits-360/fruits-360/Test'
",
    "
",
    "train_gen = ImageDataGenerator(rescale=1./255)
",
    "test_gen = ImageDataGenerator(rescale=1./255)
",
    "
",
    "train_set = train_gen.flow_from_directory(train_path, target_size=(100, 100), batch_size=32, class_mode='categorical')
",
    "test_set = test_gen.flow_from_directory(test_path, target_size=(100, 100), batch_size=32, class_mode='categorical')
",
    "
",
    "model = Sequential([
",
    "    Conv2D(32, (3,3), activation='relu', input_shape=(100,100,3)),
",
    "    MaxPooling2D(2,2),
",
    "    Conv2D(64, (3,3), activation='relu'),
",
    "    MaxPooling2D(2,2),
",
    "    Flatten(),
",
    "    Dense(128, activation='relu'),
",
    "    Dense(train_set.num_classes, activation='softmax')
",
    "])
",
    "
",
    "model.compile(optimizer='adam', loss='categorical_crossentropy', metrics=['accuracy'])
",
    "model.fit(train_set, epochs=5, validation_data=test_set)"
   ]
  }
 ],
 "metadata": {
  "kernelspec": {
   "display_name": "Python 3",
   "language": "python",
   "name": "python3"
  },
  "language_info": {
   "name": "python",
   "version": ""
  }
 },
 "nbformat": 4,
 "nbformat_minor": 2
}
